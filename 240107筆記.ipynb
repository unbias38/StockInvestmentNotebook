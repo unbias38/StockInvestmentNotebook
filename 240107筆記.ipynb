{
 "cells": [
  {
   "cell_type": "markdown",
   "id": "f82f9bd0-61a1-46c9-84a2-15a4aea7e565",
   "metadata": {},
   "source": [
    "### 【[周末影音解盤](https://www.facebook.com/kevinyang20180801/videos/732373362185324/)】短線翻空，緊盯支撐  \n",
    "加權指數20日線會不會下彎？第一段關鍵支撐在那邊？  \n",
    "多方反攻最關鍵的時間是甚麼時候？  \n",
    "未來修正的時間和空間，要看那些關鍵指標？  \n",
    "完整內容請參考影音解盤~  \n",
    "https://www.facebook.com/kevinyang20180801/videos/732373362185324  \n",
    "  \n",
    "這個周末盤勢波動大，私訊的同學較多，提早上傳解盤內容~  "
   ]
  },
  {
   "cell_type": "markdown",
   "id": "9537668d-a0ad-4486-9ae1-6da74ee151eb",
   "metadata": {},
   "source": [
    "### 本日進度  \n",
    "* 整合[股票分析機器人](https://colab.research.google.com/drive/1gneFQWNI6PfkuE9WvN26bVMm702weH8D#scrollTo=j1x0glPsNJe2)：[最強 AI 投資分析：打造自己的股市顧問機器人，股票趨勢分析×年報解讀×選股推薦×風險管理](https://www.books.com.tw/products/0010973679)（[F3933 最強 AI 投資分析 - 服務專區](https://www.flag.com.tw/bk/t/f3933)）\n",
    "* 更新「筆記」環境\n",
    "  ```\n",
    "  conda update -c conda-forge pip --yes\n",
    "  conda update -c conda-forge numpy scipy --yes\n",
    "  conda update -c conda-forge matplotlib mplfinance --yes\n",
    "  conda update -c conda-forge ta-lib --yes\n",
    "  conda update -c conda-forge python-dotenv --yes\n",
    "  conda update -c plotly plotly --yes\n",
    "  pip install pyfolio --upgrade\n",
    "  pip install backtrader --upgrade\n",
    "  pip install openpyxl --upgrade\n",
    "  pip install FinMind --upgrade\n",
    "\n",
    "  pip install openai\n",
    "  pip install yfinance\n",
    "\n",
    "  conda env export --name StockNotes --file StockNotes.yml\n",
    "  ``` "
   ]
  },
  {
   "cell_type": "markdown",
   "id": "b42f11cd-abb9-40bb-a498-304d8def07c5",
   "metadata": {},
   "source": [
    "##### 1️⃣ 匯入套件"
   ]
  },
  {
   "cell_type": "code",
   "execution_count": 1,
   "id": "fe53b4e2-e897-40c5-9a40-4e6f8563fadf",
   "metadata": {},
   "outputs": [],
   "source": [
    "from openai import OpenAI, OpenAIError # 串接 OpenAI API\n",
    "import yfinance as yf\n",
    "import pandas as pd # 資料處理套件\n",
    "import numpy as np\n",
    "import datetime as dt # 時間套件\n",
    "import requests\n",
    "from bs4 import BeautifulSoup"
   ]
  },
  {
   "cell_type": "markdown",
   "id": "92b5c78e-c6dd-45ee-81d9-94288adc05d6",
   "metadata": {},
   "source": [
    "##### 2️⃣ 輸入 OpenAI API KEY"
   ]
  },
  {
   "cell_type": "code",
   "execution_count": 2,
   "id": "16c361a3-2cea-43ee-bb48-c2ec1cbd26e9",
   "metadata": {},
   "outputs": [
    {
     "name": "stdin",
     "output_type": "stream",
     "text": [
      "請輸入金鑰： ········\n"
     ]
    }
   ],
   "source": [
    "import getpass # 保密輸入套件\n",
    "api_key = getpass.getpass(\"請輸入金鑰：\")\n",
    "client = OpenAI(api_key = api_key) # 建立 OpenAI 物件"
   ]
  },
  {
   "cell_type": "markdown",
   "id": "c315afbb-1106-4aa5-ace1-cfa95e704877",
   "metadata": {},
   "source": [
    "##### 3️⃣ 取得股價資料"
   ]
  },
  {
   "cell_type": "code",
   "execution_count": 3,
   "id": "81b50433-96a3-46c5-88ba-3d2055a518d1",
   "metadata": {},
   "outputs": [
    {
     "name": "stderr",
     "output_type": "stream",
     "text": [
      "[*********************100%%**********************]  1 of 1 completed"
     ]
    },
    {
     "name": "stdout",
     "output_type": "stream",
     "text": [
      "{'日期': ['2023-12-28', '2023-12-29', '2024-01-02', '2024-01-03', '2024-01-04', '2024-01-05'], '收盤價': [593.0, 593.0, 593.0, 578.0, 580.0, 576.0], '每日報酬': [nan, 0.0, 0.0, -0.025295109612141653, 0.0034602076124568004, -0.006896551724137945], '漲跌價差': [nan, 0.0, 0.0, -15.0, 2.0, -4.0]}\n"
     ]
    },
    {
     "name": "stderr",
     "output_type": "stream",
     "text": [
      "\n"
     ]
    }
   ],
   "source": [
    "# 從 yfinance 取得一周股價資料\n",
    "def stock_price(stock_id=\"大盤\", days = 10):\n",
    "    if stock_id == \"大盤\":\n",
    "        stock_id=\"^TWII\"\n",
    "    else:\n",
    "        stock_id += \".TW\"\n",
    "\n",
    "    end = dt.date.today() # 資料結束時間\n",
    "    start = end - dt.timedelta(days=days) # 資料開始時間\n",
    "    # 下載資料\n",
    "    df = yf.download(stock_id, start=start)\n",
    "\n",
    "    # 更換列名\n",
    "    df.columns = ['開盤價', '最高價', '最低價',\n",
    "                    '收盤價', '調整後收盤價', '成交量']\n",
    "\n",
    "    data = {\n",
    "        '日期': df.index.strftime('%Y-%m-%d').tolist(),\n",
    "        '收盤價': df['收盤價'].tolist(),\n",
    "        '每日報酬': df['收盤價'].pct_change().tolist(),\n",
    "        '漲跌價差': df['調整後收盤價'].diff().tolist()\n",
    "    }\n",
    "\n",
    "    return data\n",
    "\n",
    "print(stock_price(\"2330\"))"
   ]
  },
  {
   "cell_type": "markdown",
   "id": "43f930c5-9fde-4bb1-925d-6fba0954bf46",
   "metadata": {},
   "source": [
    "##### 4️⃣ 取得基本面資料"
   ]
  },
  {
   "cell_type": "code",
   "execution_count": 4,
   "id": "430ea044-6fe2-4812-b635-f5c208cd6739",
   "metadata": {},
   "outputs": [
    {
     "name": "stdout",
     "output_type": "stream",
     "text": [
      "{'季日期': ['2023-09-30', '2023-06-30', '2023-03-31'], '營收成長率': [1136.03, -0.05, -0.19], 'EPS': [8.14, 7.01, 7.98, 11.41], 'EPS 季增率': [0.16, -0.12, -0.3]}\n"
     ]
    }
   ],
   "source": [
    "# 基本面資料\n",
    "def stock_fundamental(stock_id= \"大盤\"):\n",
    "    if stock_id == \"大盤\":\n",
    "        return None\n",
    "\n",
    "    stock_id += \".TW\"\n",
    "    stock = yf.Ticker(stock_id)\n",
    "\n",
    "    # 營收成長率\n",
    "    quarterly_revenue_growth = np.round(stock.quarterly_financials.loc[\"Total Revenue\"].pct_change(-1).dropna().tolist(), 2)\n",
    "\n",
    "    # 每季EPS\n",
    "    quarterly_eps = np.round(stock.quarterly_financials.loc[\"Basic EPS\"].dropna().tolist(), 2)\n",
    "\n",
    "    # EPS季增率\n",
    "    quarterly_eps_growth = np.round(stock.quarterly_financials.loc[\"Basic EPS\"].pct_change(-1).dropna().tolist(), 2)\n",
    "\n",
    "    # 轉換日期\n",
    "    dates = [date.strftime('%Y-%m-%d') for date in stock.quarterly_financials.columns]\n",
    "\n",
    "    data = {\n",
    "        '季日期': dates[:len(quarterly_revenue_growth)],  # 以最短的數據列表長度為准，確保數據對齊\n",
    "        '營收成長率': quarterly_revenue_growth.tolist(),\n",
    "        'EPS': quarterly_eps.tolist(),\n",
    "        'EPS 季增率': quarterly_eps_growth.tolist()\n",
    "    }\n",
    "\n",
    "    return data\n",
    "\n",
    "print(stock_fundamental(\"2330\"))"
   ]
  },
  {
   "cell_type": "markdown",
   "id": "fee5f42c-516d-4b2a-872b-915845fcd36b",
   "metadata": {},
   "source": [
    "##### 5️⃣ 取得新聞資料"
   ]
  },
  {
   "cell_type": "code",
   "execution_count": 5,
   "id": "56267815-bf81-4be5-8890-bd3b366e33eb",
   "metadata": {},
   "outputs": [
    {
     "name": "stdout",
     "output_type": "stream",
     "text": [
      "[['台積電', '2024-01-07', '〈台股風向球〉多種火種到處點火 耐心等待三件大事', '元月以來，台股紅盤行情失靈，加權指數周跌 411 點，出乎市場預期，台股交易員指出，主要是因市場對聯準會 (Fed)3 月降息的預期恐落空，美元反彈，匯市高度牽動股市，不過，一周來仍有近 10 檔個股漲幅超過 20%，更有逾 30 檔漲逾 10%，多頭火種不滅，耐心等待國內總統大選結束、以及陸續登場的重要法說和 CES 展。由於投資人開始懷疑聯準會最快可能要到 6 月才會降息，市場對資金行情的滿腔期待轉為落空情緒，新台幣走貶，連動中大型電子股攻擊力道熄火。從三大法人的布局來看，外資先行撤出中大型電子股，合計賣超 295 億元，終結連 3 賣，投信則是再買超 119 億元，為連 2 買。以金額統計，外資主要賣超聯發科 (2454-TW) 近 80 億元，緯創 (3231-TW)35 億元，南電 (8046-TW) 和晶豪科 (3006-TW) 均超過 20 億元，華城 (1519-TW)19 億元，元大高股息 (0056-TW)、技嘉 (2376-TW) 和威剛 (3260-TW) 均逾 16 億元，英業達 (2356-TW)、復華台灣科技優息 (00929-TW) 和台達電 (2308-TW) 均超過 15 億元。外資買超多為公司債，包括國泰投資級公司債和智原 (3035-TW) 均逾 53 億元，復華公司債 43 億元，富邦金融投等債、永豐 10 年 A 公司債 37 億元上，元大投資級公司債、群益 AAA-AA 公司債和華碩 (2357-TW)30 億元之上。投信買超最多者為長榮 (2603-TW) 近 32 億元，中美晶 (5483-TW)、聯詠 (3034-TW)、中信金 (2891-TW)、台積電 (2330-TW)、瑞儀 (6176-TW) 均逾 10 億元，瑞昱 (2379-TW) 和聯電 (2303-TW) 也在 9 億元上下，顯示投信反而有意逢低提前布局中大型電子股。本周重大活動為 1 月 9 日登場的 CES 展，英特爾稱今年為 AI PC 元年，預期相關 AI PC、AI 伺服器、智慧醫療、虛擬實境等業者將大鳴大放新展品的願景，AI 浪潮有望重回盤面焦點，法人樂觀看待，長期來看 AI 指標股拉回就是買點，惟短線波動還是看資金行情的拉鋸。永豐投顧指出，聯準會多數官員則認為應先放慢速度再停止縮表，加上 ADP 就業人數由 10.1 萬人上升至 16.4 萬人，顯示就業市場依舊強勁，市場對 3 月降息由希望轉為失望。另一方面，國內總統大選於 1 月 13 日舉行，從 2012、2016 及 2020 年三次大選經驗觀察，選前為量縮下跌，選後則是量增價漲。而重要法說有 1 月 10 日南亞科 (2408-TW) 法說、1 月 11 日大立光 (3008-TW) 法說，應有助科技股維穩。'], ['台積電', '2024-01-07', '三星AI 手機搶市  產業GAGR達83%，<mark>台積電</mark>、 聯發科、大立光、晶技', '〈三星將推 AI 手機搶市〉三星宣布將推出最新搭載全新 AI 功能的旗艦手機 Galaxy S24 Ultra，三星本次主題是「Galaxy 開箱 2024：開創行動 AI 新紀元」，是 2024 年也是三星第一款 AI 手機，宣告 Galaxy AI 手機世代即將到來。三星緊追去年 10 月與 11 月推出 AI 手機的小米與 vivo。小米 Xiaomi 14 與 ViVO X100 兩款 AI 手機都一問市就熱銷，小米 14 開賣一周銷量就已超過 100 萬支。而 Vivo X100 開賣 5 分鐘就已經超過前一代 X90 手機全天的銷售量，開賣首日更是前一代銷量的 7.4 倍。自 2022 年 11 月開始吹起的 AI 浪潮，在 2024 年 AI 應用走入消費市場，AI 手機將是 2024 年的新主流，各大廠也都是摩拳擦掌準備推出新品搶市，研調機構 Counterpoint Research 推估，2024 年生成式 AI 智慧手機出貨量將突破 1 億支，2027 年則逾 5 億支，年複合成長率高達 83％。預估在 2027 年底前，將有超過高達 10 億支內建生成式 AI 功能的智慧手機出貨。〈下載陳智霖分析師 APP 獲得更即時資訊 ，完成註冊獎勵金最高 6000 元 〉陳智霖老師的直播節目及 APP 的獨家廣播都會針對國際總經還有重要財經事件即時追蹤分析，同時提供產業趨勢方向，只要 APP 完成註冊驗證者都可獲得獎勵金 (最高回饋 6000 元)，邀請您可以立即點選下方連結免費下載陳智霖分析師 App，下載連結: https://hantec.liveinapp.com/jhih-lin-app-link〈小米與 ViVO 的 AI 手機〉高通 (QCOM-TW) 在去年 10 月底推出 Snapdragon 8 Gen 3，以生成式 AI 為核心所設計的行動平台，而小米也立即在 10 月底發表搭載 Snapdragon 8 Gen 3 的 AI 新旗艦機小米 14。11 月初聯發科 (2454-TW) 也緊接著推出新一代 5G 生成式 AI 行動晶片天璣 9300，採用的是台積電 (2330-TW)4 奈米製程，vivo 則接著在 11 月中發表搭載聯發科天璣 9300 的 X100 系列 AI 手機。由高通與聯發科相繼發表 AI 手機晶片揭開 AI 手機的序幕，讓已低迷兩年多的手機市場注入活水，將觀察後續是否能帶動新換機潮。加上 WiFi 7 即將上線，更為 AI 手機推波助瀾。AI 手機的運用，生成式 AI 依靠的就是算力，運用在手機上則需要依賴無線通訊技術，因此 WiFi 7 就更顯得重要。目前有蘋果 (AAPL-US)、三星兩家大廠，自明年推出新機時可以支援 WiFi 7。〈AI 手機受惠股〉AI 手機受最直接惠股的就是台積電，因高通與聯發科針對 AI 手機晶片，分別採用台積電的 4 奈米與 3 奈米技術，雖然兩大廠在產業上互為競爭對手，但台積電都可坐擁漁翁之利。媒體傳言台積電已向蘋果和輝達 (NVDA-US) 等一些主要客戶展示 2 奈米製程測試結果，並在 12 月加發特別貢獻獎金，市場由此推測台積電 2 奈米製程進展如預期，台積電也將持續保持領先地位。聯發科的全大核天璣 9300 AI 晶片率先搶占 AI 手機，並有外媒傳出聯發科的天璣 9400 晶片將在下半年問世，將有機會取代高通的安卓晶片霸主地位，加上聯發科順利拿下蘋果 Wi-Fi 晶片訂單，預計在 2025-2026 年開始向蘋果 Apple TV 供貨，2024 年會有更多 AI 手機問世，聯發科的天璣 9300 AI 晶片將會熱賣。大立光 (3008-TW) 是三星關鍵零組件主要供應商，預期將出貨 Galaxy S24 的主鏡頭零組件，晶技 (3042-TW) 則為三星石英元件供應商，三星內部預估 AI 手機 S24 銷量將比前一代大增 10%，將大幅帶動供應鏈營收展望。投資朋友如果想要操作 AI 手機或相關概念股，可以直接跟著智霖老師操作。關於最新的股市行情分析與看好產業，您可以收看老師最新的直播節目最新影音 (請點影音上方標題至 Youtube 收視品質會更佳)才剛剛接觸陳智霖分析師的新朋友，建議您現在立即點選紫色圖片下載安裝陳智霖分析師 APP，老師有提供 APP 新註冊用戶免費體驗午報導航及互動教學會員影音的活動，歡迎您透過體驗來了解陳智霖老師如何選股以及盤中的會員服務，午報導航體驗都是限時限額開放，千萬不要浪費了您可以免費體驗的權益喔。點擊連結免費下載註冊〈陳智霖分析師 APP〉獎勵金回饋立即領https://hantec.liveinapp.com/jhih-lin-app-link錢進熱線 02-2653-8299, 立即邁向系統依據的股票操作。文章來源：陳智霖分析師 / 亨達投顧本公司所推薦分析之個別有價證券 無不當之財務利益關係 以往之績效不保證未來獲利 投資人應獨立判斷 審慎評估並自負投資風險'], ['台積電', '2024-01-06', '受惠台電強韌電網計畫 中興電、士電、華城、亞力看旺2024年營運', '〈台電強韌電網計畫持續釋單〉台灣是全球半導體製造重鎮，根據彭博社報導，預計 2025 年台積電 (2330-TW) 的耗電量將佔全台灣整體能源消耗的 12.5%。台電因應離岸風電及太陽能光電廠等再生能源陸續啟用，為強化全台電網，訂出為期十年的強韌電網計畫，投入 5,000 億元以上經費，更換老舊或新增設備。近期受到台電強韌電網計畫持續釋單的加持，中興電 (1513-TW)、士電 (1503-TW)、華城 (1519-TW)、亞力 (1514-TW) 等線纜及機電廠訂單最長看到 2030 年，中興電拿下台電 345KV 超高壓 GIS 開關大宗訂單，士電、亞力、華城的台電訂單則是以變壓器為主，前三季獲利表現和合併營收皆創下同期新高，重電業者在手訂單至少百億元，隨著電費調升與台電電網強韌計畫持續釋單，業者看望未來數年營運穩健成長。〈下載陳智霖分析師 APP 獲得更即時資訊 ，完成註冊獎勵金最高 6000 元 〉陳智霖老師的直播節目及 APP 的獨家廣播都會針對國際總經還有重要財經事件即時追蹤分析，同時提供產業趨勢方向，只要 APP 完成註冊驗證者都可獲得獎勵金 (最高回饋 6000 元)，邀請您可以立即點選下方連結免費下載陳智霖分析師 App，下載連結: https://hantec.liveinapp.com/jhih-lin-app-link〈第一季預估進入高震盪 跟著智霖老師邊做邊學〉台股去年第四季大漲亮麗封關，本周最新公告聯準會會議紀要也表示升息循環結束，既然已經開始不會升息，美元就不太容易再一直狂升，相對的台幣也就不太可能再大幅貶值，以央行所公告以及多家研調機構預測，台灣今年經濟成長約 + 3% 優於去年，經濟復甦年更是讓台幣匯率保持穩定的因素，不過畢竟去年第四季大漲，而第一季進入電子業傳統淡季，從外銷訂單來看產業界也顯示拉貨需求並不明顯，股價漲在基本面之前預估將會進入區間震盪盤，操作難度相對很高，建議投資人跟上智霖老師的盤中獨家數據，事前準備投資名單並且設定好操作價位區間，明確的知道作法就能輕鬆應對，邀請忠實粉絲不要單打獨鬥，關於行情的最新看法以及產業分析您也可以鎖定以下最新的直播節目。最新影音 (請點影音上方標題至 Youtube 收視品質會更佳)點擊連結免費下載註冊〈陳智霖分析師 APP〉獎勵金回饋立即領 https://hantec.liveinapp.com/jhih-lin-app-link才剛剛接觸陳智霖分析師的新朋友，建議您現在立即點選連結下載安裝陳智霖分析師 APP，新註冊的用戶可免費盤中選股以及會員專屬影音，歡迎您透過體驗來了解陳智霖老師，午報導航體驗都是限時限額開放，千萬不要浪費了您可以免費體驗的權益喔。錢進熱線 02-2653-8299, 立即邁向系統依據的股票操作。文章來源：陳智霖分析師 / 亨達投顧本公司所推薦分析之個別有價證券\\n無不當之財務利益關係 以往之績效不保證未來獲利\\n投資人應獨立判斷 審慎評估並自負投資風險'], ['台積電', '2024-01-06', '鉅亨速報 - Factset 最新調查：國泰金(2882-TW)EPS預估上修至5.09元，預估目標價為51.5元', '根據FactSet最新調查，共10位分析師，對國泰金(2882-TW)做出2024年EPS預估：中位數由5.05元上修至5.09元，其中最高估值5.46元，最低估值4.15元，預估目標價為51.5元。市場預估EPS市場預估營收歷史獲利表現詳細資訊請看台股內頁：https://www.cnyes.com/twstock/2882/financials/ratios最新相關新聞資料來源：Factset，數據僅供參考，不作為投資建議。'], ['台積電', '2024-01-06', '鉅亨速報 - Factset 最新調查：創意(3443-TW)EPS預估下修至34.5元，預估目標價為1662.5元', '根據FactSet最新調查，共19位分析師，對創意(3443-TW)做出2024年EPS預估：中位數由34.94元下修至34.5元，其中最高估值40.84元，最低估值28.99元，預估目標價為1662.5元。市場預估EPS市場預估營收歷史獲利表現詳細資訊請看台股內頁：https://www.cnyes.com/twstock/3443/financials/ratios最新相關新聞資料來源：Factset，數據僅供參考，不作為投資建議。']]\n"
     ]
    }
   ],
   "source": [
    "# 新聞資料\n",
    "def stock_news(stock_name =\"大盤\"):\n",
    "    if stock_name == \"大盤\":\n",
    "        stock_name=\"台股 -盤中速報\"\n",
    "\n",
    "    data=[]\n",
    "    # 取得 Json 格式資料\n",
    "    json_data = requests.get(f'https://ess.api.cnyes.com/ess/api/v1/news/keyword?q={stock_name}&limit=5&page=1').json()\n",
    "\n",
    "    # 依照格式擷取資料\n",
    "    items=json_data['data']['items']\n",
    "    for item in items:\n",
    "        # 網址、標題和日期\n",
    "        news_id = item[\"newsId\"]\n",
    "        title = item[\"title\"]\n",
    "        publish_at = item[\"publishAt\"]\n",
    "        # 使用 UTC 時間格式\n",
    "        utc_time = dt.datetime.utcfromtimestamp(publish_at)\n",
    "        formatted_date = utc_time.strftime('%Y-%m-%d')\n",
    "        # 前往網址擷取內容\n",
    "        url = requests.get(f'https://news.cnyes.com/'\n",
    "                           f'news/id/{news_id}').content\n",
    "        soup = BeautifulSoup(url, 'html.parser')\n",
    "        p_elements=soup .find_all('p')\n",
    "        # 提取段落内容\n",
    "        p=''\n",
    "        for paragraph in p_elements[4:]:\n",
    "            p+=paragraph.get_text()\n",
    "        data.append([stock_name, formatted_date ,title,p])\n",
    "    return data\n",
    "\n",
    "print(stock_news(\"台積電\"))"
   ]
  },
  {
   "cell_type": "markdown",
   "id": "1aa75486-22d7-4561-87e2-71d7dd0a61c8",
   "metadata": {},
   "source": [
    "##### 6️⃣ 爬取股號、股名對照表"
   ]
  },
  {
   "cell_type": "code",
   "execution_count": 6,
   "id": "40554679-4f06-4681-8498-c97af8bf0715",
   "metadata": {},
   "outputs": [
    {
     "name": "stdout",
     "output_type": "stream",
     "text": [
      "線上讀取股號、股名、及產業別\n"
     ]
    }
   ],
   "source": [
    "# 取得全部股票的股號、股名\n",
    "def stock_name():\n",
    "      print(\"線上讀取股號、股名、及產業別\")\n",
    "\n",
    "      response = requests.get('https://isin.twse.com.tw/isin/C_public.jsp?strMode=2')\n",
    "      url_data = BeautifulSoup(response.text, 'html.parser')\n",
    "      stock_company = url_data.find_all('tr')\n",
    "\n",
    "      # 資料處理\n",
    "      data = [\n",
    "          (row.find_all('td')[0].text.split('\\u3000')[0].strip(),\n",
    "           row.find_all('td')[0].text.split('\\u3000')[1],\n",
    "           row.find_all('td')[4].text.strip())\n",
    "          for row in stock_company[2:] if len(row.find_all('td')[0].text.split('\\u3000')[0].strip()) == 4\n",
    "      ]\n",
    "\n",
    "      df = pd.DataFrame(data, columns=['股號', '股名', '產業別'])\n",
    "\n",
    "      return df\n",
    "\n",
    "name_df = stock_name()"
   ]
  },
  {
   "cell_type": "markdown",
   "id": "392e177c-a130-491e-9db8-e3d682ad5c67",
   "metadata": {},
   "source": [
    "##### 7️⃣ 取得股票名稱"
   ]
  },
  {
   "cell_type": "code",
   "execution_count": 7,
   "id": "c76b2a70-c3a5-417e-aa37-94f7d70b3a7c",
   "metadata": {},
   "outputs": [
    {
     "name": "stdout",
     "output_type": "stream",
     "text": [
      "     股號  股名   產業別\n",
      "0  1101  台泥  水泥工業\n",
      "1  1102  亞泥  水泥工業\n",
      "2  1103  嘉泥  水泥工業\n",
      "3  1104  環泥  水泥工業\n",
      "4  1108  幸福  水泥工業\n",
      "--------------------------\n",
      "國建\n"
     ]
    }
   ],
   "source": [
    "# 取得股票名稱\n",
    "def get_stock_name(stock_id, name_df):\n",
    "    return name_df.set_index('股號').loc[stock_id, '股名']\n",
    "\n",
    "print(name_df.head())\n",
    "print(\"--------------------------\")\n",
    "print(get_stock_name(\"2501\",name_df))"
   ]
  },
  {
   "cell_type": "markdown",
   "id": "b21eb423-ee52-4d62-91d3-7b09a13a9789",
   "metadata": {},
   "source": [
    "##### 8️⃣ 建構 GPT 3.5 模型"
   ]
  },
  {
   "cell_type": "code",
   "execution_count": 8,
   "id": "3c414fc8-521a-44d1-8081-f7a38aaa335c",
   "metadata": {},
   "outputs": [],
   "source": [
    "# 建立 GPT 3.5-16k 模型\n",
    "def get_reply(messages):\n",
    "    try:\n",
    "        response = client.chat.completions.create(\n",
    "            model = \"gpt-3.5-turbo-1106\",\n",
    "            messages = messages\n",
    "        )\n",
    "        reply = response.choices[0].message.content\n",
    "    except OpenAIError as err:\n",
    "        reply = f\"發生 {err.type} 錯誤\\n{err.message}\"\n",
    "    return reply\n",
    "\n",
    "# 建立訊息指令(Prompt)\n",
    "def generate_content_msg(stock_id, name_df):\n",
    "\n",
    "    stock_name = get_stock_name(\n",
    "        stock_id, name_df) if stock_id != \"大盤\" else stock_id\n",
    "\n",
    "    price_data = stock_price(stock_id)\n",
    "    news_data = stock_news(stock_name)\n",
    "\n",
    "    content_msg = f'請依據以下資料來進行分析並給出一份完整的分析報告:\\n'\n",
    "\n",
    "    content_msg += f'近期價格資訊:\\n {price_data}\\n'\n",
    "\n",
    "    if stock_id != \"大盤\":\n",
    "        stock_value_data = stock_fundamental(stock_id)\n",
    "        content_msg += f'每季營收資訊：\\n {stock_value_data}\\n'\n",
    "\n",
    "    content_msg += f'近期新聞資訊: \\n {news_data}\\n'\n",
    "    content_msg += f'請給我{stock_name}近期的趨勢報告,請以詳細、\\\n",
    "      嚴謹及專業的角度撰寫此報告,並提及重要的數字, reply in 繁體中文'\n",
    "\n",
    "    return content_msg\n",
    "\n",
    "# StockGPT\n",
    "def stock_gpt(stock_id, name_df=name_df):\n",
    "    content_msg = generate_content_msg(stock_id, name_df)\n",
    "\n",
    "    msg = [{\n",
    "        \"role\": \"system\",\n",
    "        \"content\": f\"你現在是一位專業的證券分析師, 你會統整近期的股價\\\n",
    "      、基本面、新聞資訊等方面並進行分析, 然後生成一份專業的趨勢分析報告\"\n",
    "    }, {\n",
    "        \"role\": \"user\",\n",
    "        \"content\": content_msg\n",
    "    }]\n",
    "\n",
    "    reply_data = get_reply(msg)\n",
    "\n",
    "    return reply_data\n"
   ]
  },
  {
   "cell_type": "markdown",
   "id": "9d51588b-6ef7-4cc1-8373-8d57e08e66ae",
   "metadata": {},
   "source": [
    "##### 9️⃣ 大盤趨勢報告"
   ]
  },
  {
   "cell_type": "code",
   "execution_count": 9,
   "id": "3c576fd3-6a35-42e0-a401-66e08ceea71b",
   "metadata": {},
   "outputs": [
    {
     "name": "stderr",
     "output_type": "stream",
     "text": [
      "[*********************100%%**********************]  1 of 1 completed\n"
     ]
    },
    {
     "name": "stdout",
     "output_type": "stream",
     "text": [
      "### 股市趨勢分析報告\n",
      "\n",
      "#### 近期股價走勢\n",
      "根據提供的台灣大盤收盤價資訊，自 2023 年 12 月 28 日至 2024 年 01 月 05 日，加權指數呈現逐日下跌的趨勢。收盤價從 17910.37 點下降至 17519.14 點，約跌幅 2.18%。每日報酬率的變化也呈現近日下跌的趨勢，反映出大盤整體走勢的弱勢。\n",
      "\n",
      "#### 新聞資訊分析\n",
      "從近期新聞資訊來看，台股市場受到多方面因素影響。包括全球市場的不確定性、外資資金流向的變化、總統大選與重要法說等事件。\n",
      "\n",
      "在外資方面，從 2023 年 11 月至 12 月出現了進入史上第一大金額的淨匯入，變更為於 2024 年 01 月出現了處於進入史上第三大金額的淨匯入，這代表外資對於台灣股市的資金流入趨勢較為積極。此外，投信的布局方面，則顯示出對中大型電子股的提前布局。\n",
      "\n",
      "在資金面，從最新的資本流向分析顯示，市場對聯準會降息預期的轉變、外資對台股投資信心升溫等都成為影響股市的要素。此外，重要法說活動以及國際影響中最大的消費性電子 CES 展也成為市場關注的重點。\n",
      "\n",
      "在個股方面，一些概念股、蘋果、台積電、聯發科等廠商的動向，以及與 AI PC 相關的概念股都受到市場矚目。\n",
      "\n",
      "群益台灣精選高息 (00919-TW) 成為第 5 檔台股千億 ETF。此外，更有許多概念股的發展，如神盾 (6462-TW) 推出全新攝像頭解決方案、微軟的 Copilot 鍵以及祥碩 (5269-TW) 等 IC 設計公司的股票變化等。\n",
      "\n",
      "#### 基本面分析\n",
      "從基本面上看，近期財團法人資金的佈局、營收狀況、收益率等因素都以及市場預期的績效，都可以影響市場行情的波動。同時，有利於投資人評估收益能力和風險。\n",
      "\n",
      "#### 投資策略建議\n",
      "根據以上分析，建議投資者在選股和短期操作上需謹慎，應該關注市場走勢及消息面的變化，特別需要留意個別概念股的動向和資本流向變化。值得注意的是，對市場的評估和分析是迅速和準確的，同時建議量力而為，存在風險意識上限。\n",
      "\n",
      "在長期投資方面，可以考慮選擇專業基金或 ETF 等進行股票配置，以分散風險。\n",
      "\n",
      "總的來說，台股市場目前面臨著多重不確定因素，投資者應當謹慎應對，突出風險管理，同時保持敏感的投資眼光。\n"
     ]
    }
   ],
   "source": [
    "reply = stock_gpt(stock_id=\"大盤\")\n",
    "print(reply)"
   ]
  },
  {
   "cell_type": "markdown",
   "id": "0b1812b3-9af5-4894-95c8-5b3a34921e8e",
   "metadata": {},
   "source": [
    "##### 🔟 個股分析報告"
   ]
  },
  {
   "cell_type": "code",
   "execution_count": 10,
   "id": "4bb77c29-5043-4fd3-a544-649cf5d08d7a",
   "metadata": {},
   "outputs": [
    {
     "name": "stderr",
     "output_type": "stream",
     "text": [
      "[*********************100%%**********************]  1 of 1 completed\n"
     ]
    },
    {
     "name": "stdout",
     "output_type": "stream",
     "text": [
      "根據所提供的資訊，以下是對於台積電近期趨勢的專業分析報告：\n",
      "\n",
      "**股價趨勢分析：**\n",
      "從最近的股價資訊來看，台積電股價在過去一周內呈現一定程度的下跌。從2023年12月28日至2024年1月5日，股價由593元下跌至576元，總體呈現下行趨勢。此外，每日報酬率也顯示出股價的波動，且存在較大的每日漲跌價差，顯示市場交易活躍度較高。\n",
      "\n",
      "**基本面分析：**\n",
      "從季度營收資訊來看，台積電的營收成長率在2023年度呈現出顯著的增長，尤其是在2023年第三季度，營收成長率達到了1136.03%。然而，在2023年第二季度和第一季度，營收成長率呈現微幅下降的趨勢。這可能與市場對於半導體行業的需求有關，值得進一步觀察。\n",
      "\n",
      "從台積電的EPS資訊來看，從2023年第一季度到第三季度，EPS呈現出些微波動，但整體依然維持在較高水平。此外，季度EPS的季增率呈現出一定的波動，但整體趨勢較為穩定。\n",
      "\n",
      "**新聞資訊影響分析：**\n",
      "最近的新聞資訊顯示，Fed降息預期的改變對台積電及台股產生了影響，而韓國三星推出AI手機也凸顯了全球AI手機市場的潛力。同時，台電強韌電網計畫持續釋單，也給台積電的供應鏈帶來了一定的積極影響。\n",
      "\n",
      "**結論及建議：**\n",
      "綜上所述，台積電目前股價呈現下行趨勢，但在基本面及新聞面影響下，其潛在價值仍可期待。建議投資者應關注行業趨勢的變化以及全球半導體市場的發展，並對投資決策審慎評估。同時，對於台積電的長期發展，值得密切關注其EPS趨勢及產業新聞資訊，以提高投資決策的準確性。\n",
      "\n",
      "以上報告僅供參考，建議投資者在做出任何投資決策前，仍應諮詢專業意見並自行評估風險。\n",
      "\n",
      "希望本報告對您有所幫助，如果有任何進一步的需求或疑問，請隨時告知。\n"
     ]
    }
   ],
   "source": [
    "reply = stock_gpt(stock_id=\"2330\")\n",
    "print(reply)"
   ]
  },
  {
   "cell_type": "markdown",
   "id": "0bad5f98-965d-4a37-838e-f9965c3ec4b7",
   "metadata": {},
   "source": [
    "* 程式碼改動：解決**「國建(2501)」**新聞資訊問題"
   ]
  },
  {
   "cell_type": "code",
   "execution_count": 11,
   "id": "7b63d4b3-8efc-479c-9bf0-b9454d9826f0",
   "metadata": {},
   "outputs": [],
   "source": [
    "# 建立 GPT 3.5-16k 模型\n",
    "def get_reply(messages):\n",
    "    try:\n",
    "        response = client.chat.completions.create(\n",
    "            model = \"gpt-3.5-turbo-1106\",\n",
    "            messages = messages\n",
    "        )\n",
    "        reply = response.choices[0].message.content\n",
    "    except OpenAIError as err:\n",
    "        reply = f\"發生 {err.type} 錯誤\\n{err.message}\"\n",
    "    return reply\n",
    "\n",
    "# 建立訊息指令(Prompt)\n",
    "def generate_content_msg(stock_id, name_df):\n",
    "\n",
    "    stock_name = get_stock_name(\n",
    "        stock_id, name_df) if stock_id != \"大盤\" else stock_id\n",
    "\n",
    "    price_data = stock_price(stock_id)\n",
    "    news_data = stock_news(stock_id) # 改動 ： stock_name → stock_id\n",
    "\n",
    "    content_msg = f'請依據以下資料來進行分析並給出一份完整的分析報告:\\n'\n",
    "\n",
    "    content_msg += f'近期價格資訊:\\n {price_data}\\n'\n",
    "\n",
    "    if stock_id != \"大盤\":\n",
    "        stock_value_data = stock_fundamental(stock_id)\n",
    "        content_msg += f'每季營收資訊：\\n {stock_value_data}\\n'\n",
    "\n",
    "    content_msg += f'近期新聞資訊: \\n {news_data}\\n'\n",
    "    content_msg += f'請給我{stock_name}近期的趨勢報告,請以詳細、\\\n",
    "      嚴謹及專業的角度撰寫此報告,並提及重要的數字, reply in 繁體中文'\n",
    "\n",
    "    return content_msg\n",
    "\n",
    "# StockGPT\n",
    "def stock_gpt(stock_id, name_df=name_df):\n",
    "    content_msg = generate_content_msg(stock_id, name_df)\n",
    "\n",
    "    msg = [{\n",
    "        \"role\": \"system\",\n",
    "        \"content\": f\"你現在是一位專業的證券分析師, 你會統整近期的股價\\\n",
    "      、基本面、新聞資訊等方面並進行分析, 然後生成一份專業的趨勢分析報告\"\n",
    "    }, {\n",
    "        \"role\": \"user\",\n",
    "        \"content\": content_msg\n",
    "    }]\n",
    "\n",
    "    reply_data = get_reply(msg)\n",
    "\n",
    "    return reply_data"
   ]
  },
  {
   "cell_type": "code",
   "execution_count": 12,
   "id": "e4bcc52f-cbf1-4389-b4cd-3ae76c71a813",
   "metadata": {},
   "outputs": [
    {
     "name": "stderr",
     "output_type": "stream",
     "text": [
      "[*********************100%%**********************]  1 of 1 completed\n"
     ]
    },
    {
     "name": "stdout",
     "output_type": "stream",
     "text": [
      "報告\n",
      "\n",
      "一、股價趨勢分析：\n",
      "  近期股價表現如下：\n",
      "  - 2023-12-28 收盤價：17.7\n",
      "  - 2023-12-29 收盤價：18.15，每日報酬率為2.54%\n",
      "  - 2024-01-02 收盤價：18.6，每日報酬率為2.48%\n",
      "  - 2024-01-03 收盤價：18.25，每日報酬率為-1.88%\n",
      "  - 2024-01-04 收盤價：18.4，每日報酬率為0.82%\n",
      "  - 2024-01-05 收盤價：18.8，每日報酬率為2.17%\n",
      "\n",
      "  股價在近期呈現波動上漲的趨勢，從12月29日至1月5日的連續上漲可以觀察到市場對公司股票的積極態度。隨著收盤價持續上揚，投資人對公司前景的樂觀情緒也在提升。\n",
      "\n",
      "二、基本面分析：\n",
      "  1. 每季營收資訊顯示公司營收成長率在過去三季有所波動，但整體表現仍呈現一定的穩定性，需要關注未來營收的動向。\n",
      "  2. 公司近三季的每股盈餘（EPS）呈現盈利，並且在季增率上也出現了起伏，顯示公司盈利狀況較為穩健，但也需留意近期的盈利波動情況。\n",
      "\n",
      "三、新聞資訊分析：\n",
      "  1. 公司取得高雄市三民區營建用地，這樣的舉措可能影響到公司未來的營運規模與範疇，值得密切關注。這也代表公司在未來有可能有新的業務機會。\n",
      "  2. 子公司與非關係人簽訂增補契約，提示公司擴展業務的發展意圖。這可能對公司業績產生一定影響，需要進一步觀察。\n",
      "  3. 公司向關係人取得使用權資產，此舉可能與公司的未來營運或資產配置有關。\n",
      "  4. 公司更正了前期的財務報告，此舉對公司的財務透明度與投資者信心可能帶來一定程度的影響。\n",
      "\n",
      "綜合上述信息，公司股價近期持續上升，與新聞資訊及基本面有一定關聯。作為證券分析師，建議投資者應詳細研究公司的業務發展情況，並關注未來營收和盈利的趨勢變化。並建議根據自己的投資目標、風險承受能力，謹慎評估是否進行投資操作。\n"
     ]
    }
   ],
   "source": [
    "reply = stock_gpt(stock_id=\"2501\")\n",
    "print(reply)"
   ]
  }
 ],
 "metadata": {
  "kernelspec": {
   "display_name": "Python 3 (ipykernel)",
   "language": "python",
   "name": "python3"
  },
  "language_info": {
   "codemirror_mode": {
    "name": "ipython",
    "version": 3
   },
   "file_extension": ".py",
   "mimetype": "text/x-python",
   "name": "python",
   "nbconvert_exporter": "python",
   "pygments_lexer": "ipython3",
   "version": "3.8.15"
  }
 },
 "nbformat": 4,
 "nbformat_minor": 5
}
